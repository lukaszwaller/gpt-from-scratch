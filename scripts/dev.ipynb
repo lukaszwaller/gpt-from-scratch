{
 "cells": [
  {
   "cell_type": "markdown",
   "metadata": {},
   "source": [
    "# GPT from scratch\n",
    "\n",
    "## Setup"
   ]
  },
  {
   "cell_type": "code",
   "execution_count": 1,
   "metadata": {},
   "outputs": [
    {
     "name": "stdout",
     "output_type": "stream",
     "text": [
      "Obtaining file:///Users/sok1ush/Development/lukaszwaller/gpt-from-scratch/scripts\n",
      "\u001b[31mERROR: file:///Users/sok1ush/Development/lukaszwaller/gpt-from-scratch/scripts does not appear to be a Python project: neither 'setup.py' nor 'pyproject.toml' found.\u001b[0m\u001b[31m\n",
      "\u001b[0mNote: you may need to restart the kernel to use updated packages.\n"
     ]
    }
   ],
   "source": [
    "%pip install -e ."
   ]
  },
  {
   "cell_type": "markdown",
   "metadata": {},
   "source": [
    "## Imports"
   ]
  },
  {
   "cell_type": "code",
   "execution_count": 2,
   "metadata": {},
   "outputs": [],
   "source": [
    "import os\n",
    "import src.text_preprocessor as tp"
   ]
  },
  {
   "cell_type": "markdown",
   "metadata": {},
   "source": [
    "## Setup"
   ]
  },
  {
   "cell_type": "code",
   "execution_count": 3,
   "metadata": {},
   "outputs": [
    {
     "data": {
      "text/plain": [
       "'/Users/sok1ush/Development/lukaszwaller/gpt-from-scratch/scripts/../data'"
      ]
     },
     "execution_count": 3,
     "metadata": {},
     "output_type": "execute_result"
    }
   ],
   "source": [
    "CWD = os.getcwd()\n",
    "DATA_PATH = os.path.join(CWD, '..', 'data')\n",
    "DATA_PATH"
   ]
  },
  {
   "cell_type": "markdown",
   "metadata": {},
   "source": [
    "## Get data"
   ]
  },
  {
   "cell_type": "code",
   "execution_count": 4,
   "metadata": {},
   "outputs": [],
   "source": [
    "with open (os.path.join(DATA_PATH, 'Harry_Potter_all_books.txt'), 'r') as f:\n",
    "    text = f.read()"
   ]
  },
  {
   "cell_type": "code",
   "execution_count": 5,
   "metadata": {},
   "outputs": [
    {
     "name": "stdout",
     "output_type": "stream",
     "text": [
      "length of text: 5991293\n"
     ]
    }
   ],
   "source": [
    "print(\"length of text: {}\".format(len(text)))"
   ]
  },
  {
   "cell_type": "code",
   "execution_count": 6,
   "metadata": {},
   "outputs": [
    {
     "name": "stdout",
     "output_type": "stream",
     "text": [
      "THE BOY WHO LIVED Mr and Mrs Dursley of number four Privet Drive were proud to say that they were perfectly normal thank you very much .They were the last people youd expect to be involved in anything strange or mysterious because they just didnt hol\n"
     ]
    }
   ],
   "source": [
    "print(text[:250])"
   ]
  },
  {
   "cell_type": "markdown",
   "metadata": {},
   "source": [
    "## Preprocess data"
   ]
  },
  {
   "cell_type": "code",
   "execution_count": 7,
   "metadata": {},
   "outputs": [],
   "source": [
    "preprocessor = tp.TextPreprocessor(\n",
    "    os.path.join(DATA_PATH, 'Harry_Potter_all_books.txt'),\n",
    ")\n",
    "preprocessor.preprocess()\n",
    "processed_text = preprocessor.get_processed_text()"
   ]
  },
  {
   "cell_type": "code",
   "execution_count": 8,
   "metadata": {},
   "outputs": [
    {
     "name": "stdout",
     "output_type": "stream",
     "text": [
      "the boy who lived mr and mrs dursley of number four privet drive were proud to say that they were perfectly normal thank you very much .\n",
      "they were the last people youd expect to be involved in anything strange or mysterious because they just didnt hold with such nonsense .\n",
      "mr dursley was the director of a firm called grunnings which made drills .\n",
      "he was a big beefy man with hardly any neck although he did have a very large mustache .\n",
      "mrs dursley was thin and blonde and had nearly twice the usual amount of neck which came in very useful as she spent so much of her time craning over garden fences spying on the neighbors .\n",
      "the dursley s had a small son called dudley and in their opinion there was no finer boy anywhere .\n",
      "the dursleys had everything they wanted but they also had a secret and their greatest fear was that somebody would discover it .\n",
      "they didnt think they could bear it if anyone found out about the potters .\n",
      "mrs potter was mrs dursleys sister but they hadnt met for several ye\n"
     ]
    }
   ],
   "source": [
    "print(processed_text[:1000])"
   ]
  }
 ],
 "metadata": {
  "kernelspec": {
   "display_name": "py310-gpt-from-scratch",
   "language": "python",
   "name": "python3"
  },
  "language_info": {
   "codemirror_mode": {
    "name": "ipython",
    "version": 3
   },
   "file_extension": ".py",
   "mimetype": "text/x-python",
   "name": "python",
   "nbconvert_exporter": "python",
   "pygments_lexer": "ipython3",
   "version": "3.10.13"
  }
 },
 "nbformat": 4,
 "nbformat_minor": 2
}
